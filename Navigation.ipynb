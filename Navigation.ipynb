{
 "cells": [
  {
   "cell_type": "markdown",
   "metadata": {},
   "source": [
    "# Navigation\n",
    "\n",
    "---\n",
    "\n",
    "You are welcome to use this coding environment to train your agent for the project.  Follow the instructions below to get started!\n",
    "\n",
    "### 1. Start the Environment\n",
    "\n",
    "Run the next code cell to install a few packages.  This line will take a few minutes to run!"
   ]
  },
  {
   "cell_type": "code",
   "execution_count": 2,
   "metadata": {},
   "outputs": [
    {
     "name": "stdout",
     "output_type": "stream",
     "text": [
      "\u001b[31mtensorflow 1.7.1 has requirement numpy>=1.13.3, but you'll have numpy 1.12.1 which is incompatible.\u001b[0m\n",
      "\u001b[31mipython 6.5.0 has requirement prompt-toolkit<2.0.0,>=1.0.15, but you'll have prompt-toolkit 3.0.23 which is incompatible.\u001b[0m\n",
      "done with requirements install\n"
     ]
    }
   ],
   "source": [
    "!pip -q install ./python\n",
    "print('done with requirements install')"
   ]
  },
  {
   "cell_type": "markdown",
   "metadata": {},
   "source": [
    "The environment is already saved in the Workspace and can be accessed at the file path provided below.  Please run the next code cell without making any changes."
   ]
  },
  {
   "cell_type": "code",
   "execution_count": 3,
   "metadata": {},
   "outputs": [
    {
     "name": "stderr",
     "output_type": "stream",
     "text": [
      "INFO:unityagents:\n",
      "'Academy' started successfully!\n",
      "Unity Academy name: Academy\n",
      "        Number of Brains: 1\n",
      "        Number of External Brains : 1\n",
      "        Lesson number : 0\n",
      "        Reset Parameters :\n",
      "\t\t\n",
      "Unity brain name: BananaBrain\n",
      "        Number of Visual Observations (per agent): 0\n",
      "        Vector Observation space type: continuous\n",
      "        Vector Observation space size (per agent): 37\n",
      "        Number of stacked Vector Observation: 1\n",
      "        Vector Action space type: discrete\n",
      "        Vector Action space size (per agent): 4\n",
      "        Vector Action descriptions: , , , \n"
     ]
    }
   ],
   "source": [
    "from unityagents import UnityEnvironment\n",
    "import numpy as np\n",
    "\n",
    "# please do not modify the line below\n",
    "env = UnityEnvironment(file_name=\"/data/Banana_Linux_NoVis/Banana.x86_64\")"
   ]
  },
  {
   "cell_type": "markdown",
   "metadata": {},
   "source": [
    "Environments contain **_brains_** which are responsible for deciding the actions of their associated agents. Here we check for the first brain available, and set it as the default brain we will be controlling from Python."
   ]
  },
  {
   "cell_type": "code",
   "execution_count": 4,
   "metadata": {},
   "outputs": [],
   "source": [
    "# get the default brain\n",
    "brain_name = env.brain_names[0]\n",
    "brain = env.brains[brain_name]"
   ]
  },
  {
   "cell_type": "markdown",
   "metadata": {},
   "source": [
    "### 2. Examine the State and Action Spaces\n",
    "\n",
    "Run the code cell below to print some information about the environment."
   ]
  },
  {
   "cell_type": "code",
   "execution_count": 6,
   "metadata": {},
   "outputs": [
    {
     "name": "stdout",
     "output_type": "stream",
     "text": [
      "Number of agents: 1\n",
      "Number of actions: 4\n",
      "States look like: [ 0.          1.          0.          0.          0.16895212  0.          1.\n",
      "  0.          0.          0.20073597  1.          0.          0.          0.\n",
      "  0.12865657  0.          1.          0.          0.          0.14938059\n",
      "  1.          0.          0.          0.          0.58185619  0.          1.\n",
      "  0.          0.          0.16089135  0.          1.          0.          0.\n",
      "  0.31775284  0.          0.        ]\n",
      "States have length: 37\n"
     ]
    }
   ],
   "source": [
    "# reset the environment\n",
    "env_info = env.reset(train_mode=True)[brain_name]\n",
    "\n",
    "# number of agents in the environment\n",
    "print('Number of agents:', len(env_info.agents))\n",
    "\n",
    "# number of actions\n",
    "action_size = brain.vector_action_space_size\n",
    "print('Number of actions:', action_size)\n",
    "\n",
    "# examine the state space \n",
    "state = env_info.vector_observations[0]\n",
    "print('States look like:', state)\n",
    "state_size = len(state)\n",
    "print('States have length:', state_size)"
   ]
  },
  {
   "cell_type": "markdown",
   "metadata": {},
   "source": [
    "### 3. Take Random Actions in the Environment\n",
    "\n",
    "In the next code cell, you will learn how to use the Python API to control the agent and receive feedback from the environment.\n",
    "\n",
    "Note that **in this coding environment, you will not be able to watch the agent while it is training**, and you should set `train_mode=True` to restart the environment."
   ]
  },
  {
   "cell_type": "code",
   "execution_count": 7,
   "metadata": {},
   "outputs": [
    {
     "name": "stdout",
     "output_type": "stream",
     "text": [
      "Score: 0.0\n"
     ]
    }
   ],
   "source": [
    "env_info = env.reset(train_mode=True)[brain_name] # reset the environment\n",
    "state = env_info.vector_observations[0]            # get the current state\n",
    "score = 0                                          # initialize the score\n",
    "while True:\n",
    "    action = np.random.randint(action_size)        # select an action\n",
    "    env_info = env.step(action)[brain_name]        # send the action to the environment\n",
    "    next_state = env_info.vector_observations[0]   # get the next state\n",
    "    reward = env_info.rewards[0]                   # get the reward\n",
    "    done = env_info.local_done[0]                  # see if episode has finished\n",
    "    score += reward                                # update the score\n",
    "    state = next_state                             # roll over the state to next time step\n",
    "    if done:                                       # exit loop if episode finished\n",
    "        break\n",
    "    \n",
    "print(\"Score: {}\".format(score))"
   ]
  },
  {
   "cell_type": "markdown",
   "metadata": {},
   "source": [
    "When finished, you can close the environment."
   ]
  },
  {
   "cell_type": "code",
   "execution_count": 6,
   "metadata": {},
   "outputs": [],
   "source": [
    "#env.close()"
   ]
  },
  {
   "cell_type": "markdown",
   "metadata": {},
   "source": [
    "### 4. It's Your Turn!\n",
    "\n",
    "Now it's your turn to train your own agent to solve the environment!  A few **important notes**:\n",
    "- When training the environment, set `train_mode=True`, so that the line for resetting the environment looks like the following:\n",
    "```python\n",
    "env_info = env.reset(train_mode=True)[brain_name]\n",
    "```\n",
    "- To structure your work, you're welcome to work directly in this Jupyter notebook, or you might like to start over with a new file!  You can see the list of files in the workspace by clicking on **_Jupyter_** in the top left corner of the notebook.\n",
    "- In this coding environment, you will not be able to watch the agent while it is training.  However, **_after training the agent_**, you can download the saved model weights to watch the agent on your own machine! "
   ]
  },
  {
   "cell_type": "code",
   "execution_count": 8,
   "metadata": {},
   "outputs": [
    {
     "name": "stdout",
     "output_type": "stream",
     "text": [
      "Score: 0.0\n"
     ]
    }
   ],
   "source": [
    "# Start by importing the important stuff\n",
    "import torch\n",
    "from collections import deque\n",
    "from dqn_agent import Agent\n",
    "\n",
    "# Create an agent\n",
    "agent = Agent(state_size=37, action_size=4, seed=0)\n",
    "\n",
    "# Use above code with new agent to validate import\n",
    "env_info = env.reset(train_mode=True)[brain_name]\n",
    "state = env_info.vector_observations[0]\n",
    "score = 0\n",
    "eps = 1.0\n",
    "while True:\n",
    "    action = agent.act(state, eps)\n",
    "    env_info = env.step(action)[brain_name]\n",
    "    next_state = env_info.vector_observations[0]\n",
    "    reward = env_info.rewards[0]\n",
    "    done = env_info.local_done[0]\n",
    "    score += reward\n",
    "    state = next_state\n",
    "    if done:\n",
    "        break\n",
    "print(\"Score: {}\".format(score))"
   ]
  },
  {
   "cell_type": "code",
   "execution_count": 9,
   "metadata": {},
   "outputs": [],
   "source": [
    "def dqn(num_ep = 5000, num_tsteps=300, eps_start=1.0, eps_end=.01, eps_decay=0.99):\n",
    "    ''' Deep Q Learning Fcn:\n",
    "        Input Params:\n",
    "            num_ep: max number of episodes (editable)\n",
    "            num_tsteps: max number of timesteps per episode (from project description on github)\n",
    "            eps_start: epsilon starting val (seems appropriate)\n",
    "            eps_end: epsilon ending val (seems appropriate)\n",
    "            eps_decay: epsilon decay rate (editable)\n",
    "        Output: Avg score per episode up to num_episodes or done\n",
    "    '''\n",
    "    scores = [] # Init scores list\n",
    "    avg_scores = [] # Init avg scores\n",
    "    scores_win = deque(maxlen=100) # store last 100 scores for avg (winning is considered >13 score for 100 episodes)\n",
    "    eps = eps_start # Init eps value for epsilon greedy actions\n",
    "    for episode in range(1, num_ep+1):\n",
    "        env_info = env.reset(train_mode=True)[brain_name] # reset environment\n",
    "        state = env_info.vector_observations[0] # get current env state\n",
    "        score = 0 # Set score to 0 for start\n",
    "        for time in range(num_tsteps):\n",
    "            action = agent.act(state, eps)\n",
    "            # The next few lines are from code provided above, see Section 3 for comments\n",
    "            env_info = env.step(action)[brain_name]\n",
    "            next_state = env_info.vector_observations[0]\n",
    "            reward = env_info.rewards[0]\n",
    "            done = env_info.local_done[0]\n",
    "            agent.step(state, action, reward, next_state, done) # Agent learning step (sarsa it up)\n",
    "            score += reward\n",
    "            state = next_state\n",
    "            if done:\n",
    "                break\n",
    "        scores_win.append(score) # save current score\n",
    "        scores.append(score)\n",
    "        avg_score = np.mean(scores_win)\n",
    "        avg_scores.append(avg_score)\n",
    "        eps = max(eps_end, eps_decay * eps) # Epsilon decrease step\n",
    "        #print(\"Scores: {}\".format(avg_score))\n",
    "        #print('episode num: {}\\tavg score: {:.2f}'.format(episode, avg_score))\n",
    "        print('\\rEpisode {}\\tAverage Score: {:.2f}'.format(episode, avg_score), end=\"\")\n",
    "        if episode % 100 == 0:\n",
    "            print('\\nEpisode num: {}\\tAvg score: {:.2f}'.format(episode, np.mean(scores_win)))\n",
    "        if np.mean(scores_win)>=13.0:\n",
    "            # Winning is scores above 13 as per github project description, so print that we've won\n",
    "            print(\"\\nYou did it! Solved in {:d} episodes!\\tavg score: {:.2f}\".format(episode, np.mean(scores_win)))\n",
    "            torch.save(agent.qnetwork_local.state_dict(), 'checkpoint.pth')\n",
    "            break\n",
    "    return scores, avg_scores"
   ]
  },
  {
   "cell_type": "code",
   "execution_count": 10,
   "metadata": {},
   "outputs": [
    {
     "name": "stdout",
     "output_type": "stream",
     "text": [
      "Episode 100\tAverage Score: 2.31\n",
      "Episode num: 100\tAvg score: 2.31\n",
      "Episode 200\tAverage Score: 7.79\n",
      "Episode num: 200\tAvg score: 7.79\n",
      "Episode 300\tAverage Score: 10.76\n",
      "Episode num: 300\tAvg score: 10.76\n",
      "Episode 380\tAverage Score: 13.04\n",
      "You did it! Solved in 380 episodes!\tavg score: 13.04\n"
     ]
    }
   ],
   "source": [
    "scores, avg_scores = dqn()"
   ]
  },
  {
   "cell_type": "code",
   "execution_count": 11,
   "metadata": {},
   "outputs": [
    {
     "data": {
      "image/png": "[encoded data removed]",
      "text/plain": [
       "<matplotlib.figure.Figure at 0x7ff6bac52a58>"
      ]
     },
     "metadata": {
      "needs_background": "light"
     },
     "output_type": "display_data"
    }
   ],
   "source": [
    "# plot some stuff\n",
    "import matplotlib.pyplot as plt\n",
    "%matplotlib inline\n",
    "\n",
    "fig = plt.figure()\n",
    "plt.title('Training Rewards')\n",
    "episodes = np.arange(len(scores))\n",
    "plt.plot(episodes, scores, label='DQN Score')\n",
    "plt.plot(episodes, avg_scores, 'g', label = 'Avg Score')\n",
    "plt.ylabel('Scores')\n",
    "plt.xlabel('Episode')\n",
    "plt.show()"
   ]
  },
  {
   "cell_type": "code",
   "execution_count": 15,
   "metadata": {},
   "outputs": [
    {
     "name": "stdout",
     "output_type": "stream",
     "text": [
      "episode num: 1\t score: 15.00\n",
      "episode num: 2\t score: 11.00\n",
      "episode num: 3\t score: 4.00\n",
      "episode num: 4\t score: 17.00\n",
      "episode num: 5\t score: 2.00\n",
      "episode num: 6\t score: 11.00\n",
      "episode num: 7\t score: 18.00\n",
      "episode num: 8\t score: 19.00\n",
      "episode num: 9\t score: 18.00\n",
      "episode num: 10\t score: 18.00\n",
      "episode num: 11\t score: 13.00\n",
      "episode num: 12\t score: 9.00\n",
      "episode num: 13\t score: 16.00\n",
      "episode num: 14\t score: 16.00\n",
      "episode num: 15\t score: 10.00\n",
      "episode num: 16\t score: 15.00\n",
      "episode num: 17\t score: 18.00\n",
      "episode num: 18\t score: 9.00\n",
      "episode num: 19\t score: 12.00\n",
      "episode num: 20\t score: 15.00\n",
      "episode num: 21\t score: 19.00\n",
      "episode num: 22\t score: 18.00\n",
      "episode num: 23\t score: 15.00\n",
      "episode num: 24\t score: 13.00\n",
      "episode num: 25\t score: 17.00\n"
     ]
    }
   ],
   "source": [
    "# Testing time\n",
    "\n",
    "agent.qnetwork_local.load_state_dict(torch.load('checkpoint.pth')) #load our training weights\n",
    "num_episodes = 25\n",
    "max_step = 300\n",
    "eps = 0.0\n",
    "t_scores = []\n",
    "for episode in range(1, num_episodes+1):\n",
    "    env_info = env.reset(train_mode=False)[brain_name] # reset environment (this time for testing)\n",
    "    state = env_info.vector_observations[0] # get current state\n",
    "    test_score = 0 # init test score to zero \n",
    "    for time in range(max_step):\n",
    "        # A lot of these steps are grabbed from the \"random\" example above\n",
    "        action = agent.act(state, eps)\n",
    "        env_info = env.step(action)[brain_name]\n",
    "        next_state = env_info.vector_observations[0]\n",
    "        reward = env_info.rewards[0]\n",
    "        done = env_info.local_done[0]\n",
    "        agent.step(state, action, reward, next_state, done) # sarsa time\n",
    "        test_score += reward\n",
    "        state = next_state\n",
    "        if done:\n",
    "            break\n",
    "    t_scores.append(test_score) # add current score to test scores\n",
    "    print('episode num: {}\\t score: {:.2f}'.format(episode, test_score))"
   ]
  },
  {
   "cell_type": "code",
   "execution_count": 14,
   "metadata": {},
   "outputs": [
    {
     "data": {
      "image/png": "[encoded data removed]",
      "text/plain": [
       "<matplotlib.figure.Figure at 0x7ff6b0525c88>"
      ]
     },
     "metadata": {
      "needs_background": "light"
     },
     "output_type": "display_data"
    }
   ],
   "source": [
    "# plot test results\n",
    "fig = plt.figure()\n",
    "plt.title('Testing Rewards')\n",
    "plt.plot(np.arange(len(t_scores)), t_scores)\n",
    "plt.ylabel('Score')\n",
    "plt.xlabel('Episode')\n",
    "plt.show()"
   ]
  },
  {
   "cell_type": "code",
   "execution_count": null,
   "metadata": {},
   "outputs": [],
   "source": [
    "# okay no we're done, close the env\n",
    "env.close()"
   ]
  }
 ],
 "metadata": {
  "kernelspec": {
   "display_name": "Python 3",
   "language": "python",
   "name": "python3"
  },
  "language_info": {
   "codemirror_mode": {
    "name": "ipython",
    "version": 3
   },
   "file_extension": ".py",
   "mimetype": "text/x-python",
   "name": "python",
   "nbconvert_exporter": "python",
   "pygments_lexer": "ipython3",
   "version": "3.6.3"
  }
 },
 "nbformat": 4,
 "nbformat_minor": 2
}
